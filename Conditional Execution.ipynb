{
 "cells": [
  {
   "cell_type": "markdown",
   "metadata": {
    "nbpresent": {
     "id": "01305a18-4439-4b98-9d70-0884f6853082"
    }
   },
   "source": [
    "# Conditional Execution"
   ]
  },
  {
   "cell_type": "markdown",
   "metadata": {
    "nbpresent": {
     "id": "071af1d3-035c-48b5-872f-2409c65fa1b5"
    }
   },
   "source": [
    "## Boolean expressions "
   ]
  },
  {
   "cell_type": "markdown",
   "metadata": {
    "nbpresent": {
     "id": "74b6975d-fbf1-45bf-83aa-65196eb525ac"
    }
   },
   "source": [
    "A boolean expression is an expression that is either true or false. The following examples use the operator ==, which compares two operands and produces True if they are equal and False otherwise"
   ]
  },
  {
   "cell_type": "code",
   "execution_count": 2,
   "metadata": {
    "collapsed": false,
    "nbpresent": {
     "id": "46925bec-1313-4488-bd27-cf9c4c852070"
    }
   },
   "outputs": [
    {
     "data": {
      "text/plain": [
       "True"
      ]
     },
     "execution_count": 2,
     "metadata": {},
     "output_type": "execute_result"
    }
   ],
   "source": [
    "5 == 5"
   ]
  },
  {
   "cell_type": "code",
   "execution_count": 3,
   "metadata": {
    "collapsed": false,
    "nbpresent": {
     "id": "59e50101-4f63-4ad5-8651-7e1da597929e"
    }
   },
   "outputs": [
    {
     "data": {
      "text/plain": [
       "False"
      ]
     },
     "execution_count": 3,
     "metadata": {},
     "output_type": "execute_result"
    }
   ],
   "source": [
    "5 == 6"
   ]
  },
  {
   "cell_type": "markdown",
   "metadata": {
    "nbpresent": {
     "id": "00c689ff-a36d-4a45-bf96-692a9ec5d56a"
    }
   },
   "source": [
    "True and False are special values that belong to the type bool; they are not strings"
   ]
  },
  {
   "cell_type": "code",
   "execution_count": 4,
   "metadata": {
    "collapsed": false,
    "nbpresent": {
     "id": "eb2ecdeb-471c-4de7-a5d9-212019d5905e"
    }
   },
   "outputs": [
    {
     "data": {
      "text/plain": [
       "bool"
      ]
     },
     "execution_count": 4,
     "metadata": {},
     "output_type": "execute_result"
    }
   ],
   "source": [
    "type(True)"
   ]
  },
  {
   "cell_type": "code",
   "execution_count": 5,
   "metadata": {
    "collapsed": false,
    "nbpresent": {
     "id": "0242a457-b17c-4433-ae4a-6027329b9931"
    }
   },
   "outputs": [
    {
     "data": {
      "text/plain": [
       "bool"
      ]
     },
     "execution_count": 5,
     "metadata": {},
     "output_type": "execute_result"
    }
   ],
   "source": [
    "type(False)"
   ]
  },
  {
   "cell_type": "raw",
   "metadata": {
    "nbpresent": {
     "id": "521250e6-7e29-4ec3-a756-e83fd036c5fc"
    }
   },
   "source": [
    "The == operator is one of the comparison operators; the others are:\n",
    "\n",
    "x != y\n",
    "x > y\n",
    "x < y\n",
    "x >= y\n",
    "x <= y\n",
    "x is y\n",
    "x is not y"
   ]
  },
  {
   "cell_type": "markdown",
   "metadata": {
    "nbpresent": {
     "id": "935ccd65-4e4d-4795-b171-6e34021ec3f8"
    }
   },
   "source": [
    "## Logical operators "
   ]
  },
  {
   "cell_type": "markdown",
   "metadata": {
    "nbpresent": {
     "id": "026272e3-6d9f-411c-838f-c6a7c92c018b"
    }
   },
   "source": [
    "There are three logical operators: and, or, and not. The meaning of these operators is similar to their meaning in English.\n",
    "\n",
    "x > 0 and x < 10\n",
    "\n",
    "is true only if x is greater than 0 and less than 10\n",
    "\n",
    "n%2 == 0 or n%3 == 0 is true if either of the conditios is true, that is, if the number is divisble by 2 or 3.\n",
    "\n",
    "FInally, the not operator negates a boolean expression, so not (x > y) is true if x > y is false, that is, if x is less or equal to y."
   ]
  },
  {
   "cell_type": "markdown",
   "metadata": {
    "nbpresent": {
     "id": "5bb8f1f4-917e-4bbb-9611-bd3adf05f545"
    }
   },
   "source": [
    "## Conditinal execution "
   ]
  },
  {
   "cell_type": "markdown",
   "metadata": {
    "nbpresent": {
     "id": "1fcf45de-d36a-4b23-ad3d-05bd847bd93d"
    }
   },
   "source": [
    "We always need the ability to check conditions and change behavior of the program accordingly. Conditional statements give us this ability. The simplest form is the if statement:"
   ]
  },
  {
   "cell_type": "raw",
   "metadata": {
    "nbpresent": {
     "id": "76915c1d-b663-4950-ba52-8a267146e22a"
    }
   },
   "source": [
    "if x > 0 :\n",
    "    print 'x is positive'"
   ]
  },
  {
   "cell_type": "markdown",
   "metadata": {
    "nbpresent": {
     "id": "8b2f5f3b-15a1-41ad-9cce-f762f34a0632"
    }
   },
   "source": [
    "The boolean expression after the if statment is called the condition. We end the if statement with a color character (:) and the lines after the if statement are indented\n",
    "\n",
    "If the logical condition is true, then the indented statement gets executed. If the logical condition is false, the indented statement is skipped."
   ]
  },
  {
   "cell_type": "markdown",
   "metadata": {},
   "source": [
    "if statments have the same structure as function definitions or for loops. The statement consists of a header line that ends with the colon character (:) followed by an indented block. Statements like this are called compound statements because they stretch across more than one line."
   ]
  },
  {
   "cell_type": "markdown",
   "metadata": {},
   "source": [
    "## Alternative execution "
   ]
  },
  {
   "cell_type": "markdown",
   "metadata": {},
   "source": [
    "A second form of the if statement is alternative execution, in which there are two possibilities and the condition determines which one gets executed. The syntax looks like this:"
   ]
  },
  {
   "cell_type": "raw",
   "metadata": {},
   "source": [
    "if x%2 == 0 :\n",
    "    print 'x is even'\n",
    "else :\n",
    "    print 'x is odd'"
   ]
  },
  {
   "cell_type": "markdown",
   "metadata": {},
   "source": [
    "If the remainder when x is divided by 2 is 0, then we know that x is even, and the program displays a message to that effect. If the condition is false, the second set of statements is executed.\n",
    "\n",
    "Since the condition must be true or false, exactly one of the alternatives will executed. The alternatives are called branches."
   ]
  },
  {
   "cell_type": "markdown",
   "metadata": {},
   "source": [
    "## Chained conditionals "
   ]
  },
  {
   "cell_type": "markdown",
   "metadata": {},
   "source": [
    "Sometimes there are more than two possibilities and we need more than two branches. One way to express a computation like that is a chained conditional:"
   ]
  },
  {
   "cell_type": "raw",
   "metadata": {},
   "source": [
    "if x < y :\n",
    "    print 'x is less than y'\n",
    "elif x > y :\n",
    "    print 'x is greater than y'\n",
    "else:\n",
    "    print 'x and y are equal'"
   ]
  },
  {
   "cell_type": "markdown",
   "metadata": {},
   "source": [
    "elif is an abbreviation of \"else if\".\n",
    "\n",
    "There is no limit on the number of elif statements. If there is an else clause, it has to be at the end, but there doesn't have to be one."
   ]
  },
  {
   "cell_type": "raw",
   "metadata": {},
   "source": [
    "if choice == 'a':\n",
    "    print 'Bad Guess'\n",
    "elif choice == 'b':\n",
    "    print 'Good Guess'\n",
    "elif choice == 'c':\n",
    "    print 'Close, but not correct'"
   ]
  },
  {
   "cell_type": "markdown",
   "metadata": {},
   "source": [
    "Each condition is checked in order. If the first is false, the next is checked, and so on. If one of them is true, the corresponding branch executes, and the statement ends. Even if more than one condition is true, only the first true branch executes."
   ]
  },
  {
   "cell_type": "markdown",
   "metadata": {},
   "source": [
    "## Nested conditionals "
   ]
  },
  {
   "cell_type": "markdown",
   "metadata": {},
   "source": [
    "One conditional can also be nested within another. We could have wrriten the trichotomoy example like this:"
   ]
  },
  {
   "cell_type": "raw",
   "metadata": {},
   "source": [
    "if x == y:\n",
    "    print 'x and y are equal'\n",
    "else:\n",
    "    if x < y:\n",
    "        print 'x is less than y'\n",
    "    else:\n",
    "        print 'x is greater than y'"
   ]
  },
  {
   "cell_type": "markdown",
   "metadata": {},
   "source": [
    "The outer conditional contains two branches. The first branch contains a simple statement. The second branch contains another if statement, which has two branches of its own. Those two branches are both simple statements, although they could have been conditional statements as well."
   ]
  },
  {
   "cell_type": "markdown",
   "metadata": {},
   "source": [
    "Logical operators often provide a way to simplify nested conditional statements,\n",
    "For example, we can rewrite the following code using a single conditional:"
   ]
  },
  {
   "cell_type": "raw",
   "metadata": {},
   "source": [
    "if 0 < x:\n",
    "    if x < 10:\n",
    "        print 'x is positive single-digit number'"
   ]
  },
  {
   "cell_type": "markdown",
   "metadata": {},
   "source": [
    "The print statement is executed only if we make past both conditionals, so we can get the same effect with the and operator:"
   ]
  },
  {
   "cell_type": "raw",
   "metadata": {},
   "source": [
    "if 0 < x and x < 10:\n",
    "    print 'x is a positive single digit number'"
   ]
  },
  {
   "cell_type": "markdown",
   "metadata": {},
   "source": [
    "## Catching exceptions using try and except "
   ]
  },
  {
   "cell_type": "code",
   "execution_count": null,
   "metadata": {
    "collapsed": true
   },
   "outputs": [],
   "source": []
  },
  {
   "cell_type": "code",
   "execution_count": null,
   "metadata": {
    "collapsed": true
   },
   "outputs": [],
   "source": []
  },
  {
   "cell_type": "code",
   "execution_count": null,
   "metadata": {
    "collapsed": true
   },
   "outputs": [],
   "source": []
  },
  {
   "cell_type": "code",
   "execution_count": null,
   "metadata": {
    "collapsed": true
   },
   "outputs": [],
   "source": []
  },
  {
   "cell_type": "code",
   "execution_count": null,
   "metadata": {
    "collapsed": true
   },
   "outputs": [],
   "source": []
  }
 ],
 "metadata": {
  "anaconda-cloud": {},
  "kernelspec": {
   "display_name": "Python [default]",
   "language": "python",
   "name": "python2"
  },
  "language_info": {
   "codemirror_mode": {
    "name": "ipython",
    "version": 2
   },
   "file_extension": ".py",
   "mimetype": "text/x-python",
   "name": "python",
   "nbconvert_exporter": "python",
   "pygments_lexer": "ipython2",
   "version": "2.7.12"
  },
  "nbpresent": {
   "slides": {},
   "themes": {
    "default": "6569816f-8b2b-4612-a9c7-372e23ff271b",
    "theme": {
     "6569816f-8b2b-4612-a9c7-372e23ff271b": {
      "id": "6569816f-8b2b-4612-a9c7-372e23ff271b",
      "palette": {
       "19cc588f-0593-49c9-9f4b-e4d7cc113b1c": {
        "id": "19cc588f-0593-49c9-9f4b-e4d7cc113b1c",
        "rgb": [
         252,
         252,
         252
        ]
       },
       "31af15d2-7e15-44c5-ab5e-e04b16a89eff": {
        "id": "31af15d2-7e15-44c5-ab5e-e04b16a89eff",
        "rgb": [
         68,
         68,
         68
        ]
       },
       "50f92c45-a630-455b-aec3-788680ec7410": {
        "id": "50f92c45-a630-455b-aec3-788680ec7410",
        "rgb": [
         155,
         177,
         192
        ]
       },
       "c5cc3653-2ee1-402a-aba2-7caae1da4f6c": {
        "id": "c5cc3653-2ee1-402a-aba2-7caae1da4f6c",
        "rgb": [
         43,
         126,
         184
        ]
       },
       "efa7f048-9acb-414c-8b04-a26811511a21": {
        "id": "efa7f048-9acb-414c-8b04-a26811511a21",
        "rgb": [
         25.118061674008803,
         73.60176211453744,
         107.4819383259912
        ]
       }
      },
      "rules": {
       "blockquote": {
        "color": "50f92c45-a630-455b-aec3-788680ec7410"
       },
       "code": {
        "font-family": "Anonymous Pro"
       },
       "h1": {
        "color": "c5cc3653-2ee1-402a-aba2-7caae1da4f6c",
        "font-family": "Lato",
        "font-size": 8
       },
       "h2": {
        "color": "c5cc3653-2ee1-402a-aba2-7caae1da4f6c",
        "font-family": "Lato",
        "font-size": 6
       },
       "h3": {
        "color": "50f92c45-a630-455b-aec3-788680ec7410",
        "font-family": "Lato",
        "font-size": 5.5
       },
       "h4": {
        "color": "c5cc3653-2ee1-402a-aba2-7caae1da4f6c",
        "font-family": "Lato",
        "font-size": 5
       },
       "h5": {
        "font-family": "Lato"
       },
       "h6": {
        "font-family": "Lato"
       },
       "h7": {
        "font-family": "Lato"
       },
       "pre": {
        "font-family": "Anonymous Pro",
        "font-size": 4
       }
      },
      "text-base": {
       "font-family": "Merriweather",
       "font-size": 4
      }
     }
    }
   }
  }
 },
 "nbformat": 4,
 "nbformat_minor": 1
}
