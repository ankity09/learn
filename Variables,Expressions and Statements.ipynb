{
 "cells": [
  {
   "cell_type": "markdown",
   "metadata": {
    "nbpresent": {
     "id": "55c48432-f406-44a2-a911-4d6dbcf80b6b"
    }
   },
   "source": [
    "# Variables, Expressions and Statements"
   ]
  },
  {
   "cell_type": "markdown",
   "metadata": {
    "nbpresent": {
     "id": "496445b5-dfc6-464b-ac54-725bf03d0b68"
    }
   },
   "source": [
    "### Values and Types"
   ]
  },
  {
   "cell_type": "code",
   "execution_count": 5,
   "metadata": {
    "collapsed": false,
    "nbpresent": {
     "id": "5a23b399-fa88-47cc-8cfc-43f41f57ad48"
    }
   },
   "outputs": [
    {
     "name": "stdout",
     "output_type": "stream",
     "text": [
      "4\n"
     ]
    },
    {
     "data": {
      "text/plain": [
       "float"
      ]
     },
     "execution_count": 5,
     "metadata": {},
     "output_type": "execute_result"
    }
   ],
   "source": [
    "print 4\n",
    "\n",
    "type (\"Hello World\")\n",
    "\n",
    "type(3.2)"
   ]
  },
  {
   "cell_type": "markdown",
   "metadata": {
    "nbpresent": {
     "id": "58f64d9d-316e-4cba-829f-0e655e9c4d5a"
    }
   },
   "source": [
    "### Variables"
   ]
  },
  {
   "cell_type": "markdown",
   "metadata": {
    "nbpresent": {
     "id": "205c4a04-13e6-4e66-9920-11e1f230cfa6"
    }
   },
   "source": []
  },
  {
   "cell_type": "code",
   "execution_count": 1,
   "metadata": {
    "collapsed": true,
    "nbpresent": {
     "id": "9a8f931e-60e1-49dc-ad1a-29ebf8a01eba"
    }
   },
   "outputs": [],
   "source": [
    "message = 'and now for something completely different'\n",
    "\n",
    "n = 17\n",
    "\n",
    "pi = 3.14"
   ]
  },
  {
   "cell_type": "markdown",
   "metadata": {
    "nbpresent": {
     "id": "aeec4a26-bbd3-488b-98ac-fe2420539255"
    }
   },
   "source": [
    "This example makes three assignments. The first assigns a string to a new vari- able named message; the second assigns the integer 17 to n; the third assigns the (approximate) value of π to pi."
   ]
  },
  {
   "cell_type": "markdown",
   "metadata": {
    "nbpresent": {
     "id": "8f3e8e60-986a-4171-9b38-b758d5a3b6e6"
    }
   },
   "source": [
    "To display the value of a variable, you can use a print statement:"
   ]
  },
  {
   "cell_type": "code",
   "execution_count": 7,
   "metadata": {
    "collapsed": false,
    "nbpresent": {
     "id": "a2143af7-c7b7-4c9f-8cca-6ce221bb5d7e"
    }
   },
   "outputs": [
    {
     "name": "stdout",
     "output_type": "stream",
     "text": [
      "17\n",
      "3.14\n"
     ]
    }
   ],
   "source": [
    "print n\n",
    "\n",
    "print pi"
   ]
  },
  {
   "cell_type": "markdown",
   "metadata": {
    "nbpresent": {
     "id": "ac3caf5a-f96c-4ef0-a94a-2f5dd90d40ed"
    }
   },
   "source": [
    "Python reserves 31 keywords for its use:"
   ]
  },
  {
   "cell_type": "raw",
   "metadata": {
    "nbpresent": {
     "id": "f20eaec1-e19a-40f7-aeac-8b562d57936f"
    }
   },
   "source": [
    "and del from as elif \n",
    "global assert else \n",
    "if break except import \n",
    "class exec in continue \n",
    "finally is def for lambda\n",
    "not while or \n",
    "with pass yield print\n",
    "raise return try"
   ]
  },
  {
   "cell_type": "markdown",
   "metadata": {
    "nbpresent": {
     "id": "b2c7ad05-3eeb-472b-9048-104755af0ec4"
    }
   },
   "source": [
    "## Statements"
   ]
  },
  {
   "cell_type": "markdown",
   "metadata": {
    "nbpresent": {
     "id": "8bb92428-5cca-4267-8e25-2fdac2573904"
    }
   },
   "source": [
    "A statement is a unit of code that the Python interpreter can execute. We have\n",
    "seen two kinds of statements: print and assignment.\n",
    "When you type a statement in interactive mode, the interpreter executes it and displays the result, if there is one.\n",
    "\n",
    "A script usually contains a sequence of statements. If there is more than one statement, the results appear one at a time as the statements execute."
   ]
  },
  {
   "cell_type": "code",
   "execution_count": 8,
   "metadata": {
    "collapsed": false,
    "nbpresent": {
     "id": "b938e3b8-8d6d-4944-aef2-372266e326ca"
    }
   },
   "outputs": [
    {
     "name": "stdout",
     "output_type": "stream",
     "text": [
      "1\n",
      "2\n"
     ]
    }
   ],
   "source": [
    "print 1\n",
    "x = 2\n",
    "print x"
   ]
  },
  {
   "cell_type": "markdown",
   "metadata": {
    "nbpresent": {
     "id": "58a72c11-5759-4470-a2d7-18bfece0d11a"
    }
   },
   "source": [
    "## Operators and operands"
   ]
  },
  {
   "cell_type": "markdown",
   "metadata": {
    "nbpresent": {
     "id": "40e4845a-e1f0-450c-b97a-cc60a4cfb9e3"
    }
   },
   "source": [
    "Opereators are special symbols that represent computations like addition and multiplications. The vlaues the operator is applied to are called operands.\n",
    "\n",
    "The operators +, -, *, / and ** perform addition, subtraction, multiplication, divi-\n",
    "sion and exponentiation, as in the following examples:\n",
    "\n",
    "20+32 hour-1 hour*60+minute minute/60 5**2 (5+9)*(15-7)"
   ]
  },
  {
   "cell_type": "code",
   "execution_count": 11,
   "metadata": {
    "collapsed": false,
    "nbpresent": {
     "id": "139c8437-d8ba-461d-bf75-ab684c7c5c0d"
    }
   },
   "outputs": [
    {
     "data": {
      "text/plain": [
       "0"
      ]
     },
     "execution_count": 11,
     "metadata": {},
     "output_type": "execute_result"
    }
   ],
   "source": [
    "minute = 59\n",
    "minute/60\n",
    "\n"
   ]
  },
  {
   "cell_type": "code",
   "execution_count": 12,
   "metadata": {
    "collapsed": false,
    "nbpresent": {
     "id": "b7c955a3-34b8-4cb2-b097-50fe34326fdc"
    }
   },
   "outputs": [
    {
     "data": {
      "text/plain": [
       "0.9833333333333333"
      ]
     },
     "execution_count": 12,
     "metadata": {},
     "output_type": "execute_result"
    }
   ],
   "source": [
    "minute/60.0"
   ]
  },
  {
   "cell_type": "markdown",
   "metadata": {
    "nbpresent": {
     "id": "60093a0c-2c47-439e-aebc-5814982403f9"
    }
   },
   "source": [
    "## Expressions"
   ]
  },
  {
   "cell_type": "markdown",
   "metadata": {
    "nbpresent": {
     "id": "d208544c-b076-4b73-b435-3a1b023313e3"
    }
   },
   "source": []
  },
  {
   "cell_type": "code",
   "execution_count": null,
   "metadata": {
    "collapsed": true,
    "nbpresent": {
     "id": "15e89113-ea0e-444b-aec1-a3b1b3b7cef8"
    }
   },
   "outputs": [],
   "source": []
  },
  {
   "cell_type": "code",
   "execution_count": null,
   "metadata": {
    "collapsed": true
   },
   "outputs": [],
   "source": []
  },
  {
   "cell_type": "code",
   "execution_count": null,
   "metadata": {
    "collapsed": true
   },
   "outputs": [],
   "source": []
  },
  {
   "cell_type": "code",
   "execution_count": null,
   "metadata": {
    "collapsed": true
   },
   "outputs": [],
   "source": []
  },
  {
   "cell_type": "code",
   "execution_count": null,
   "metadata": {
    "collapsed": true
   },
   "outputs": [],
   "source": []
  },
  {
   "cell_type": "code",
   "execution_count": null,
   "metadata": {
    "collapsed": true
   },
   "outputs": [],
   "source": []
  },
  {
   "cell_type": "code",
   "execution_count": null,
   "metadata": {
    "collapsed": true
   },
   "outputs": [],
   "source": []
  },
  {
   "cell_type": "code",
   "execution_count": null,
   "metadata": {
    "collapsed": true
   },
   "outputs": [],
   "source": []
  }
 ],
 "metadata": {
  "anaconda-cloud": {},
  "kernelspec": {
   "display_name": "Python [conda root]",
   "language": "python",
   "name": "conda-root-py"
  },
  "language_info": {
   "codemirror_mode": {
    "name": "ipython",
    "version": 2
   },
   "file_extension": ".py",
   "mimetype": "text/x-python",
   "name": "python",
   "nbconvert_exporter": "python",
   "pygments_lexer": "ipython2",
   "version": "2.7.12"
  },
  "nbpresent": {
   "slides": {
    "17693f9c-1278-480c-bf4f-e5aea29cbb0b": {
     "id": "17693f9c-1278-480c-bf4f-e5aea29cbb0b",
     "prev": "81c5f221-ba0e-4677-ae8a-fe76fd6aaf8e",
     "regions": {
      "923ae38c-4bc8-4ae1-81da-c55cd8a1f827": {
       "attrs": {
        "height": 0.8,
        "width": 0.8,
        "x": 0.1,
        "y": 0.1
       },
       "content": {
        "cell": "205c4a04-13e6-4e66-9920-11e1f230cfa6",
        "part": "whole"
       },
       "id": "923ae38c-4bc8-4ae1-81da-c55cd8a1f827"
      }
     }
    },
    "2c25ded3-3aba-46bb-9bb3-4679cbb09126": {
     "id": "2c25ded3-3aba-46bb-9bb3-4679cbb09126",
     "prev": null,
     "regions": {
      "d2f8cf9b-0f23-4521-bb03-838c5b61e7d7": {
       "attrs": {
        "height": 0.8,
        "width": 0.8,
        "x": 0.1,
        "y": 0.1
       },
       "content": {
        "cell": "55c48432-f406-44a2-a911-4d6dbcf80b6b",
        "part": "whole"
       },
       "id": "d2f8cf9b-0f23-4521-bb03-838c5b61e7d7"
      }
     }
    },
    "2fd495a5-19f0-4eb6-8aa4-7023d3ea1f20": {
     "id": "2fd495a5-19f0-4eb6-8aa4-7023d3ea1f20",
     "prev": "dcdf1481-5183-49eb-bde4-4bed7018fcc8",
     "regions": {
      "68b41c64-ca18-4e94-b0d7-ac464cec9bfc": {
       "attrs": {
        "height": 0.8,
        "width": 0.8,
        "x": 0.1,
        "y": 0.1
       },
       "content": {
        "cell": "139c8437-d8ba-461d-bf75-ab684c7c5c0d",
        "part": "whole"
       },
       "id": "68b41c64-ca18-4e94-b0d7-ac464cec9bfc"
      }
     }
    },
    "34c03f18-009f-428c-ab26-75611587a9da": {
     "id": "34c03f18-009f-428c-ab26-75611587a9da",
     "prev": "17693f9c-1278-480c-bf4f-e5aea29cbb0b",
     "regions": {
      "7e273506-ce8f-4f0d-a0f3-72257ebd7a25": {
       "attrs": {
        "height": 0.8,
        "width": 0.8,
        "x": 0.1,
        "y": 0.1
       },
       "content": {
        "cell": "9a8f931e-60e1-49dc-ad1a-29ebf8a01eba",
        "part": "whole"
       },
       "id": "7e273506-ce8f-4f0d-a0f3-72257ebd7a25"
      }
     }
    },
    "35c494fa-0261-4b30-a65a-a60309efe928": {
     "id": "35c494fa-0261-4b30-a65a-a60309efe928",
     "prev": "f32e1a99-ab05-4ef0-86a9-98ab6b37e991",
     "regions": {
      "1015bb9f-a0d9-443b-b168-b79cbb294988": {
       "attrs": {
        "height": 0.8,
        "width": 0.8,
        "x": 0.1,
        "y": 0.1
       },
       "content": {
        "cell": "f20eaec1-e19a-40f7-aeac-8b562d57936f",
        "part": "whole"
       },
       "id": "1015bb9f-a0d9-443b-b168-b79cbb294988"
      }
     }
    },
    "3d1f2660-aa81-4636-a478-8e8b9ef09e4a": {
     "id": "3d1f2660-aa81-4636-a478-8e8b9ef09e4a",
     "prev": "2fd495a5-19f0-4eb6-8aa4-7023d3ea1f20",
     "regions": {
      "9e5a95a9-b225-4434-82d3-e226e7619579": {
       "attrs": {
        "height": 0.8,
        "width": 0.8,
        "x": 0.1,
        "y": 0.1
       },
       "content": {
        "cell": "b7c955a3-34b8-4cb2-b097-50fe34326fdc",
        "part": "whole"
       },
       "id": "9e5a95a9-b225-4434-82d3-e226e7619579"
      }
     }
    },
    "4fe3144e-bcab-46ad-99cb-7d85a03a3b3f": {
     "id": "4fe3144e-bcab-46ad-99cb-7d85a03a3b3f",
     "prev": "82149a98-eb4f-4bf5-b89b-fbe6a0284cff",
     "regions": {
      "af45288b-7795-4ebc-baad-2ea1acce4c46": {
       "attrs": {
        "height": 0.8,
        "width": 0.8,
        "x": 0.1,
        "y": 0.1
       },
       "content": {
        "cell": "267be38e-2a20-4d50-84b6-477789928a23",
        "part": "whole"
       },
       "id": "af45288b-7795-4ebc-baad-2ea1acce4c46"
      }
     }
    },
    "56820648-b75b-49fe-af9e-1e1f4ed1bf63": {
     "id": "56820648-b75b-49fe-af9e-1e1f4ed1bf63",
     "prev": "7ef21c16-12fd-444e-8e61-6a3cea68af09",
     "regions": {
      "6a32a926-e116-49ec-93ad-12dcc0424e06": {
       "attrs": {
        "height": 0.8,
        "width": 0.8,
        "x": 0.1,
        "y": 0.1
       },
       "content": {
        "cell": "58a72c11-5759-4470-a2d7-18bfece0d11a",
        "part": "whole"
       },
       "id": "6a32a926-e116-49ec-93ad-12dcc0424e06"
      }
     }
    },
    "5db2f5f6-0ec2-45cf-8547-cf8852a800c1": {
     "id": "5db2f5f6-0ec2-45cf-8547-cf8852a800c1",
     "prev": "a94df6ee-1f1b-4cad-a550-9559b0bb9342",
     "regions": {
      "55204038-bbda-4545-9203-9e8513115b3d": {
       "attrs": {
        "height": 0.8,
        "width": 0.8,
        "x": 0.1,
        "y": 0.1
       },
       "content": {
        "cell": "d23c83bb-bccb-4acf-9fcd-5f7540e236ad",
        "part": "whole"
       },
       "id": "55204038-bbda-4545-9203-9e8513115b3d"
      }
     }
    },
    "682643ae-52ab-4bcd-ac03-b01898bbdbcf": {
     "id": "682643ae-52ab-4bcd-ac03-b01898bbdbcf",
     "prev": "35c494fa-0261-4b30-a65a-a60309efe928",
     "regions": {
      "0e2d67e3-b281-4c86-828a-3cf03649102d": {
       "attrs": {
        "height": 0.8,
        "width": 0.8,
        "x": 0.1,
        "y": 0.1
       },
       "content": {
        "cell": "b2c7ad05-3eeb-472b-9048-104755af0ec4",
        "part": "whole"
       },
       "id": "0e2d67e3-b281-4c86-828a-3cf03649102d"
      }
     }
    },
    "7063a2ca-531c-427b-8e04-b415fce65c76": {
     "id": "7063a2ca-531c-427b-8e04-b415fce65c76",
     "prev": "a7255220-14db-402b-afa6-05648d93e95b",
     "regions": {
      "46ee488a-9978-4b3f-88d7-d88bc4f4c057": {
       "attrs": {
        "height": 0.8,
        "width": 0.8,
        "x": 0.1,
        "y": 0.1
       },
       "content": {
        "cell": "8f3e8e60-986a-4171-9b38-b758d5a3b6e6",
        "part": "whole"
       },
       "id": "46ee488a-9978-4b3f-88d7-d88bc4f4c057"
      }
     }
    },
    "7ef21c16-12fd-444e-8e61-6a3cea68af09": {
     "id": "7ef21c16-12fd-444e-8e61-6a3cea68af09",
     "prev": "f92ba3cc-69d2-42bf-9e35-2abf322c874a",
     "regions": {
      "e252f8f9-68e3-4f1e-a18e-f95a6ffe6096": {
       "attrs": {
        "height": 0.8,
        "width": 0.8,
        "x": 0.1,
        "y": 0.1
       },
       "content": {
        "cell": "b938e3b8-8d6d-4944-aef2-372266e326ca",
        "part": "whole"
       },
       "id": "e252f8f9-68e3-4f1e-a18e-f95a6ffe6096"
      }
     }
    },
    "81c5f221-ba0e-4677-ae8a-fe76fd6aaf8e": {
     "id": "81c5f221-ba0e-4677-ae8a-fe76fd6aaf8e",
     "prev": "e7b5ae82-bce4-4113-ac8f-36bf1f706574",
     "regions": {
      "26a333e8-d2be-47a9-9cba-ddfa6dcfa114": {
       "attrs": {
        "height": 0.8,
        "width": 0.8,
        "x": 0.1,
        "y": 0.1
       },
       "content": {
        "cell": "58f64d9d-316e-4cba-829f-0e655e9c4d5a",
        "part": "whole"
       },
       "id": "26a333e8-d2be-47a9-9cba-ddfa6dcfa114"
      }
     }
    },
    "82149a98-eb4f-4bf5-b89b-fbe6a0284cff": {
     "id": "82149a98-eb4f-4bf5-b89b-fbe6a0284cff",
     "prev": "cbd66487-efba-44a6-b2f9-b89f756b5f8c",
     "regions": {
      "1a769b3e-b860-4d81-ab8c-443b6fb7ed58": {
       "attrs": {
        "height": 0.8,
        "width": 0.8,
        "x": 0.1,
        "y": 0.1
       },
       "content": {
        "cell": "d208544c-b076-4b73-b435-3a1b023313e3",
        "part": "whole"
       },
       "id": "1a769b3e-b860-4d81-ab8c-443b6fb7ed58"
      }
     }
    },
    "849e5cdf-07b9-4db9-a1b0-ebdaa9a617c1": {
     "id": "849e5cdf-07b9-4db9-a1b0-ebdaa9a617c1",
     "prev": "5db2f5f6-0ec2-45cf-8547-cf8852a800c1",
     "regions": {
      "58173fcd-392b-405a-810c-7a986bf77119": {
       "attrs": {
        "height": 0.8,
        "width": 0.8,
        "x": 0.1,
        "y": 0.1
       },
       "content": {
        "cell": "15e89113-ea0e-444b-aec1-a3b1b3b7cef8",
        "part": "whole"
       },
       "id": "58173fcd-392b-405a-810c-7a986bf77119"
      }
     }
    },
    "9a83b475-7d76-4ddf-b2e1-41353389afc3": {
     "id": "9a83b475-7d76-4ddf-b2e1-41353389afc3",
     "prev": "7063a2ca-531c-427b-8e04-b415fce65c76",
     "regions": {
      "2fd91b5d-2568-47db-9546-5b849fcdec02": {
       "attrs": {
        "height": 0.8,
        "width": 0.8,
        "x": 0.1,
        "y": 0.1
       },
       "content": {
        "cell": "a2143af7-c7b7-4c9f-8cca-6ce221bb5d7e",
        "part": "whole"
       },
       "id": "2fd91b5d-2568-47db-9546-5b849fcdec02"
      }
     }
    },
    "a7255220-14db-402b-afa6-05648d93e95b": {
     "id": "a7255220-14db-402b-afa6-05648d93e95b",
     "prev": "34c03f18-009f-428c-ab26-75611587a9da",
     "regions": {
      "026e3ea6-6793-4e30-a5e8-e81808f82d24": {
       "attrs": {
        "height": 0.8,
        "width": 0.8,
        "x": 0.1,
        "y": 0.1
       },
       "content": {
        "cell": "aeec4a26-bbd3-488b-98ac-fe2420539255",
        "part": "whole"
       },
       "id": "026e3ea6-6793-4e30-a5e8-e81808f82d24"
      }
     }
    },
    "a94df6ee-1f1b-4cad-a550-9559b0bb9342": {
     "id": "a94df6ee-1f1b-4cad-a550-9559b0bb9342",
     "prev": "4fe3144e-bcab-46ad-99cb-7d85a03a3b3f",
     "regions": {
      "c8f59199-7aa6-4c19-b6e9-5b13f23fe585": {
       "attrs": {
        "height": 0.8,
        "width": 0.8,
        "x": 0.1,
        "y": 0.1
       },
       "content": {
        "cell": "82e05a63-9917-48f6-9fbf-bfa83fde92a7",
        "part": "whole"
       },
       "id": "c8f59199-7aa6-4c19-b6e9-5b13f23fe585"
      }
     }
    },
    "cbd66487-efba-44a6-b2f9-b89f756b5f8c": {
     "id": "cbd66487-efba-44a6-b2f9-b89f756b5f8c",
     "prev": "3d1f2660-aa81-4636-a478-8e8b9ef09e4a",
     "regions": {
      "3444efde-f217-4250-bcc9-800feb7b9e8e": {
       "attrs": {
        "height": 0.8,
        "width": 0.8,
        "x": 0.1,
        "y": 0.1
       },
       "content": {
        "cell": "60093a0c-2c47-439e-aebc-5814982403f9",
        "part": "whole"
       },
       "id": "3444efde-f217-4250-bcc9-800feb7b9e8e"
      }
     }
    },
    "dcdf1481-5183-49eb-bde4-4bed7018fcc8": {
     "id": "dcdf1481-5183-49eb-bde4-4bed7018fcc8",
     "prev": "56820648-b75b-49fe-af9e-1e1f4ed1bf63",
     "regions": {
      "261e7195-2e29-4a15-a026-4ae5380d3d09": {
       "attrs": {
        "height": 0.8,
        "width": 0.8,
        "x": 0.1,
        "y": 0.1
       },
       "content": {
        "cell": "40e4845a-e1f0-450c-b97a-cc60a4cfb9e3",
        "part": "whole"
       },
       "id": "261e7195-2e29-4a15-a026-4ae5380d3d09"
      }
     }
    },
    "e7b5ae82-bce4-4113-ac8f-36bf1f706574": {
     "id": "e7b5ae82-bce4-4113-ac8f-36bf1f706574",
     "prev": "f714d10c-f6f5-460c-be83-4c1676985bd3",
     "regions": {
      "d8098ad8-5030-478e-aa78-b6f1688e7843": {
       "attrs": {
        "height": 0.8,
        "width": 0.8,
        "x": 0.1,
        "y": 0.1
       },
       "content": {
        "cell": "5a23b399-fa88-47cc-8cfc-43f41f57ad48",
        "part": "whole"
       },
       "id": "d8098ad8-5030-478e-aa78-b6f1688e7843"
      }
     }
    },
    "f32e1a99-ab05-4ef0-86a9-98ab6b37e991": {
     "id": "f32e1a99-ab05-4ef0-86a9-98ab6b37e991",
     "prev": "9a83b475-7d76-4ddf-b2e1-41353389afc3",
     "regions": {
      "2032acb7-fa14-4986-bffd-87de8597463d": {
       "attrs": {
        "height": 0.8,
        "width": 0.8,
        "x": 0.1,
        "y": 0.1
       },
       "content": {
        "cell": "ac3caf5a-f96c-4ef0-a94a-2f5dd90d40ed",
        "part": "whole"
       },
       "id": "2032acb7-fa14-4986-bffd-87de8597463d"
      }
     }
    },
    "f714d10c-f6f5-460c-be83-4c1676985bd3": {
     "id": "f714d10c-f6f5-460c-be83-4c1676985bd3",
     "prev": "2c25ded3-3aba-46bb-9bb3-4679cbb09126",
     "regions": {
      "58a9bb55-1c4f-4ead-b38b-53d29a0ebece": {
       "attrs": {
        "height": 0.8,
        "width": 0.8,
        "x": 0.1,
        "y": 0.1
       },
       "content": {
        "cell": "496445b5-dfc6-464b-ac54-725bf03d0b68",
        "part": "whole"
       },
       "id": "58a9bb55-1c4f-4ead-b38b-53d29a0ebece"
      }
     }
    },
    "f92ba3cc-69d2-42bf-9e35-2abf322c874a": {
     "id": "f92ba3cc-69d2-42bf-9e35-2abf322c874a",
     "prev": "682643ae-52ab-4bcd-ac03-b01898bbdbcf",
     "regions": {
      "68835b31-1be9-4047-8677-7345a7148978": {
       "attrs": {
        "height": 0.8,
        "width": 0.8,
        "x": 0.1,
        "y": 0.1
       },
       "content": {
        "cell": "8bb92428-5cca-4267-8e25-2fdac2573904",
        "part": "whole"
       },
       "id": "68835b31-1be9-4047-8677-7345a7148978"
      }
     }
    }
   },
   "themes": {}
  }
 },
 "nbformat": 4,
 "nbformat_minor": 1
}
