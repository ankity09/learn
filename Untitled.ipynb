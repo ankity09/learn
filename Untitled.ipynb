{
 "cells": [
  {
   "cell_type": "code",
   "execution_count": 9,
   "metadata": {},
   "outputs": [],
   "source": [
    "list1 = [201,56,221,1,563,209,891,111,2,347,346,34521,13,33,890,346]\n",
    "\n",
    "def insertion(sortlist):\n",
    "    for j in range(1, len(sortlist)):\n",
    "        key = sortlist[j]\n",
    "        index = j\n",
    "        while index > 0 and sortlist[index - 1] > key:\n",
    "            sortlist[index] = sortlist[index - 1]\n",
    "            index -= 1\n",
    "        sortlist[index] = key\n",
    "    return(sortlist)"
   ]
  },
  {
   "cell_type": "code",
   "execution_count": 10,
   "metadata": {},
   "outputs": [
    {
     "data": {
      "text/plain": [
       "[1, 2, 13, 33, 56, 111, 201, 209, 221, 346, 346, 347, 563, 890, 891, 34521]"
      ]
     },
     "execution_count": 10,
     "metadata": {},
     "output_type": "execute_result"
    }
   ],
   "source": [
    "insertion(list1)"
   ]
  },
  {
   "cell_type": "code",
   "execution_count": null,
   "metadata": {},
   "outputs": [],
   "source": []
  }
 ],
 "metadata": {
  "kernelspec": {
   "display_name": "Python 3",
   "language": "python",
   "name": "python3"
  },
  "language_info": {
   "codemirror_mode": {
    "name": "ipython",
    "version": 3
   },
   "file_extension": ".py",
   "mimetype": "text/x-python",
   "name": "python",
   "nbconvert_exporter": "python",
   "pygments_lexer": "ipython3",
   "version": "3.6.8"
  }
 },
 "nbformat": 4,
 "nbformat_minor": 2
}
